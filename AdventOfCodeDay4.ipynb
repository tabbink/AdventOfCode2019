{
 "nbformat": 4,
 "nbformat_minor": 2,
 "metadata": {
  "language_info": {
   "name": "python",
   "codemirror_mode": {
    "name": "ipython",
    "version": 3
   },
   "version": "3.7.4"
  },
  "orig_nbformat": 2,
  "file_extension": ".py",
  "mimetype": "text/x-python",
  "name": "python",
  "npconvert_exporter": "python",
  "pygments_lexer": "ipython3",
  "version": 3
 },
 "cells": [
  {
   "cell_type": "code",
   "execution_count": 193,
   "metadata": {},
   "outputs": [],
   "source": [
    "#six digit number\n",
    "#Within range\n",
    "#two adjecent digits are the same\n",
    "#going left to right, the digits never decrease\n",
    "\n",
    "#111111 meets the criteria\n",
    "#223450 does not meet the criteria\n",
    "#123789 does not meet the criteria\n",
    "\n",
    "# 264793-803935\n",
    "\n"
   ]
  },
  {
   "cell_type": "code",
   "execution_count": 233,
   "metadata": {},
   "outputs": [],
   "source": [
    "import pandas as pd\n",
    "#step 1: Strip all the numbers with a value lower than the starting number (20xxxx, 21xxxx, 30xxxx etc.)"
   ]
  },
  {
   "cell_type": "code",
   "execution_count": 234,
   "metadata": {},
   "outputs": [],
   "source": [
    "\n",
    "df = pd.DataFrame({'Number':range(264793,803935)})"
   ]
  },
  {
   "cell_type": "code",
   "execution_count": 235,
   "metadata": {},
   "outputs": [],
   "source": [
    "def DeterminePossiblePassword(number):\n",
    "    def DetermineDesc(number): \n",
    "        res = [int(x) for x in str(number)]\n",
    "        counter = 0\n",
    "        for i in range(0,len(res)-1):\n",
    "            if res[i+1] < res[i]:\n",
    "                return 'NO'\n",
    "            if res[i+1] == res[i]:\n",
    "                counter += 1\n",
    "        if len(str(number)) == 6:\n",
    "            if counter > 0:\n",
    "                return 'YES'\n",
    "            else:\n",
    "                return 'NO'\n",
    "        else:\n",
    "            return 'NO'\n",
    "    \n",
    "    return DetermineDesc(number)\n",
    "\n",
    "df['Geldig'] = df['Number'].map(lambda x: DeterminePossiblePassword(x))"
   ]
  },
  {
   "cell_type": "code",
   "execution_count": 236,
   "metadata": {},
   "outputs": [],
   "source": [
    "df_new = df[df['Geldig']=='YES']"
   ]
  },
  {
   "cell_type": "code",
   "execution_count": 247,
   "metadata": {},
   "outputs": [
    {
     "name": "stderr",
     "output_type": "stream",
     "text": "C:\\Users\\tabbink\\AppData\\Local\\Continuum\\anaconda3\\lib\\site-packages\\ipykernel_launcher.py:23: SettingWithCopyWarning: \nA value is trying to be set on a copy of a slice from a DataFrame.\nTry using .loc[row_indexer,col_indexer] = value instead\n\nSee the caveats in the documentation: http://pandas.pydata.org/pandas-docs/stable/user_guide/indexing.html#returning-a-view-versus-a-copy\n"
    }
   ],
   "source": [
    "df2 = pd.DataFrame({'Number': [3,4,5,6,7,8,9], 'count':[0,0,0,0,0,0,0]})\n",
    "\n",
    "def DeterminePossiblePassword(number, df):\n",
    "    def DetermineDesc(number, df): \n",
    "        df['count'].values[:] = 0\n",
    "        res = [int(x) for x in str(number)]\n",
    "        previousnumber = 0\n",
    "        for i in range(0,6):\n",
    "            if res[i] < previousnumber:\n",
    "                return 'NO'\n",
    "            previousnumber = res[i]\n",
    "            df.loc[df['Number'] == res[i], 'count'] += 1\n",
    "\n",
    "        if (df[df['count'] == 2].any()[0] == True):\n",
    "            return 'YES'\n",
    "        else:\n",
    "            return 'NO'\n",
    "\n",
    "        return 'NO'\n",
    "    \n",
    "    return DetermineDesc(number, df)\n",
    "\n",
    "df_new['Geldig'] = df_new['Number'].map(lambda x: DeterminePossiblePassword(x, df2))"
   ]
  },
  {
   "cell_type": "code",
   "execution_count": 249,
   "metadata": {},
   "outputs": [
    {
     "data": {
      "text/html": "<div>\n<style scoped>\n    .dataframe tbody tr th:only-of-type {\n        vertical-align: middle;\n    }\n\n    .dataframe tbody tr th {\n        vertical-align: top;\n    }\n\n    .dataframe thead th {\n        text-align: right;\n    }\n</style>\n<table border=\"1\" class=\"dataframe\">\n  <thead>\n    <tr style=\"text-align: right;\">\n      <th></th>\n      <th>Number</th>\n      <th>Geldig</th>\n    </tr>\n  </thead>\n  <tbody>\n    <tr>\n      <td>1884</td>\n      <td>266677</td>\n      <td>YES</td>\n    </tr>\n    <tr>\n      <td>1895</td>\n      <td>266688</td>\n      <td>YES</td>\n    </tr>\n    <tr>\n      <td>1906</td>\n      <td>266699</td>\n      <td>YES</td>\n    </tr>\n    <tr>\n      <td>1984</td>\n      <td>266777</td>\n      <td>YES</td>\n    </tr>\n    <tr>\n      <td>1985</td>\n      <td>266778</td>\n      <td>YES</td>\n    </tr>\n    <tr>\n      <td>...</td>\n      <td>...</td>\n      <td>...</td>\n    </tr>\n    <tr>\n      <td>514106</td>\n      <td>778899</td>\n      <td>YES</td>\n    </tr>\n    <tr>\n      <td>514206</td>\n      <td>778999</td>\n      <td>YES</td>\n    </tr>\n    <tr>\n      <td>515206</td>\n      <td>779999</td>\n      <td>YES</td>\n    </tr>\n    <tr>\n      <td>524106</td>\n      <td>788899</td>\n      <td>YES</td>\n    </tr>\n    <tr>\n      <td>524206</td>\n      <td>788999</td>\n      <td>YES</td>\n    </tr>\n  </tbody>\n</table>\n<p>628 rows × 2 columns</p>\n</div>",
      "text/plain": "        Number Geldig\n1884    266677    YES\n1895    266688    YES\n1906    266699    YES\n1984    266777    YES\n1985    266778    YES\n...        ...    ...\n514106  778899    YES\n514206  778999    YES\n515206  779999    YES\n524106  788899    YES\n524206  788999    YES\n\n[628 rows x 2 columns]"
     },
     "execution_count": 249,
     "metadata": {},
     "output_type": "execute_result"
    }
   ],
   "source": [
    "df_new[df_new['Geldig']=='YES']"
   ]
  },
  {
   "cell_type": "code",
   "execution_count": null,
   "metadata": {},
   "outputs": [],
   "source": []
  }
 ]
}