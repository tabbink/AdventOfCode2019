{
 "nbformat": 4,
 "nbformat_minor": 2,
 "metadata": {
  "language_info": {
   "name": "python",
   "codemirror_mode": {
    "name": "ipython",
    "version": 3
   },
   "version": "3.7.4"
  },
  "orig_nbformat": 2,
  "file_extension": ".py",
  "mimetype": "text/x-python",
  "name": "python",
  "npconvert_exporter": "python",
  "pygments_lexer": "ipython3",
  "version": 3
 },
 "cells": [
  {
   "cell_type": "code",
   "execution_count": 33,
   "metadata": {},
   "outputs": [],
   "source": [
    "import numpy as np\n",
    "mass_of_modules = np.array([103910\n",
    ",133712\n",
    ",82560\n",
    ",91679\n",
    ",98354\n",
    ",89007\n",
    ",93288\n",
    ",132363\n",
    ",91373\n",
    ",83666\n",
    ",55958\n",
    ",90387\n",
    ",100869\n",
    ",98127\n",
    ",120197\n",
    ",86931\n",
    ",60370\n",
    ",143999\n",
    ",71541\n",
    ",115662\n",
    ",51287\n",
    ",81624\n",
    ",58307\n",
    ",60408\n",
    ",141664\n",
    ",89781\n",
    ",127772\n",
    ",132353\n",
    ",101220\n",
    ",104001\n",
    ",140488\n",
    ",58072\n",
    ",75764\n",
    ",120003\n",
    ",82386\n",
    ",77603\n",
    ",130604\n",
    ",86672\n",
    ",120987\n",
    ",80334\n",
    ",67674\n",
    ",52918\n",
    ",98041\n",
    ",102541\n",
    ",97612\n",
    ",50436\n",
    ",129998\n",
    ",84854\n",
    ",101867\n",
    ",82039\n",
    ",108966\n",
    ",80708\n",
    ",54588\n",
    ",86854\n",
    ",89607\n",
    ",71869\n",
    ",126093\n",
    ",89460\n",
    ",86558\n",
    ",77651\n",
    ",53295\n",
    ",132188\n",
    ",137266\n",
    ",97370\n",
    ",114620\n",
    ",86691\n",
    ",147199\n",
    ",147299\n",
    ",72616\n",
    ",142654\n",
    ",88610\n",
    ",104030\n",
    ",64256\n",
    ",54867\n",
    ",76532\n",
    ",145081\n",
    ",102335\n",
    ",72987\n",
    ",72684\n",
    ",148155\n",
    ",59739\n",
    ",85954\n",
    ",141001\n",
    ",125171\n",
    ",107764\n",
    ",141622\n",
    ",89536\n",
    ",92435\n",
    ",69038\n",
    ",84518\n",
    ",119700\n",
    ",119801\n",
    ",81677\n",
    ",125317\n",
    ",72683\n",
    ",128905\n",
    ",93666\n",
    ",75633\n",
    ",117361\n",
    ",82295])"
   ]
  },
  {
   "cell_type": "code",
   "execution_count": 65,
   "metadata": {},
   "outputs": [],
   "source": [
    "def calculate_fuel_requirement_iterative(mass):\n",
    "\n",
    "    fuel_requirement_this_iteration = mass // 3 - 2 \n",
    "\n",
    "    if fuel_requirement_this_iteration < 0:\n",
    "        return 0\n",
    "    else:\n",
    "        fuel_requirement = fuel_requirement_this_iteration + calculate_fuel_requirement(fuel_requirement_this_iteration)\n",
    "        return fuel_requirement\n",
    "\n",
    "def calculate_fuel_requirement_plain(mass):\n",
    "\n",
    "    fuel_requirement_this_iteration = mass // 3 - 2 \n",
    "    return fuel_requirement_this_iteration\n"
   ]
  },
  {
   "cell_type": "code",
   "execution_count": 66,
   "metadata": {},
   "outputs": [
    {
     "data": {
      "text/plain": "3226488"
     },
     "execution_count": 66,
     "metadata": {},
     "output_type": "execute_result"
    }
   ],
   "source": [
    "sum(calculate_fuel_requirement_plain(mass_of_modules))"
   ]
  },
  {
   "cell_type": "code",
   "execution_count": 67,
   "metadata": {},
   "outputs": [
    {
     "data": {
      "text/plain": "4836845"
     },
     "execution_count": 67,
     "metadata": {},
     "output_type": "execute_result"
    }
   ],
   "source": [
    "T = []\n",
    "for x in mass_of_modules:\n",
    "    T.append(calculate_fuel_requirement_iterative(x))\n",
    "\n",
    "sum(T)\n"
   ]
  }
 ]
}