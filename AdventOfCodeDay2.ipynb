{
 "nbformat": 4,
 "nbformat_minor": 2,
 "metadata": {
  "language_info": {
   "name": "python",
   "codemirror_mode": {
    "name": "ipython",
    "version": 3
   },
   "version": "3.7.4"
  },
  "orig_nbformat": 2,
  "file_extension": ".py",
  "mimetype": "text/x-python",
  "name": "python",
  "npconvert_exporter": "python",
  "pygments_lexer": "ipython3",
  "version": 3
 },
 "cells": [
  {
   "cell_type": "code",
   "execution_count": 43,
   "metadata": {},
   "outputs": [],
   "source": [
    "import numpy as np\n"
   ]
  },
  {
   "cell_type": "code",
   "execution_count": 63,
   "metadata": {},
   "outputs": [],
   "source": [
    "def IntCode_Computer(IntCodeList):\n",
    "    def Process_Opcode(IntCodeList, OpCode):\n",
    "        def OpCode1(IntCodeList, OpCode):\n",
    "            IntCodeList[OpCode[3]] = IntCodeList[OpCode[1]] + IntCodeList[OpCode[2]]\n",
    "        def OpCode2(IntCodeList, OpCode):\n",
    "            IntCodeList[OpCode[3]] = IntCodeList[OpCode[1]] * IntCodeList[OpCode[2]]\n",
    "\n",
    "        if OpCode[0] == 1:\n",
    "            OpCode1(IntCodeList, OpCode)\n",
    "        elif OpCode[0] == 2:\n",
    "            OpCode2(IntCodeList, OpCode)\n",
    "        elif OpCode[0] == 99:\n",
    "            return\n",
    "        else:\n",
    "            raise Exception ('error, de opcode was: {}'.format(OpCode))\n",
    "\n",
    "    OpCodeCounter = 1\n",
    "    while IntCodeList[(OpCodeCounter - 1 ) * 4] != 99 :\n",
    "        OpCode = IntCodeList[(OpCodeCounter - 1) * 4 : OpCodeCounter * 4  ]\n",
    "        OpCodeCounter += 1\n",
    "        Process_Opcode(IntCodeList, OpCode)\n",
    "    \n",
    "    return\n"
   ]
  },
  {
   "cell_type": "code",
   "execution_count": 96,
   "metadata": {},
   "outputs": [
    {
     "data": {
      "text/plain": "6627023"
     },
     "execution_count": 96,
     "metadata": {},
     "output_type": "execute_result"
    }
   ],
   "source": [
    "IntCodeList = np.array([1,12,2,3,1,1,2,3,1,3,4,3,1,5,0,3,2,9,1,19,1,9,19,23,1,23,5,27,2,27,10,31,1,6,31,35,1,6,35,39,2,9,39,43,1,6,43,47,1,47,5,51,1,51,13,55,1,55,13,59,1,59,5,63,2,63,6,67,1,5,67,71,1,71,13,75,1,10,75,79,2,79,6,83,2,9,83,87,1,5,87,91,1,91,5,95,2,9,95,99,1,6,99,103,1,9,103,107,2,9,107,111,1,111,6,115,2,9,115,119,1,119,6,123,1,123,9,127,2,127,13,131,1,131,9,135,1,10,135,139,2,139,10,143,1,143,5,147,2,147,6,151,1,151,5,155,1,2,155,159,1,6,159,0,99,2,0,14,0])\n",
    "IntCode_Computer(IntCodeList)\n",
    "IntCodeList[0]\n"
   ]
  },
  {
   "cell_type": "code",
   "execution_count": 97,
   "metadata": {},
   "outputs": [
    {
     "name": "stdout",
     "output_type": "stream",
     "text": "4019\n"
    }
   ],
   "source": [
    "for i in range(0,100):\n",
    "    for j in range(0,100):\n",
    "        IntCodeList = np.array([1,i,j,3,1,1,2,3,1,3,4,3,1,5,0,3,2,9,1,19,1,9,19,23,1,23,5,27,2,27,10,31,1,6,31,35,1,6,35,39,2,9,39,43,1,6,43,47,1,47,5,51,1,51,13,55,1,55,13,59,1,59,5,63,2,63,6,67,1,5,67,71,1,71,13,75,1,10,75,79,2,79,6,83,2,9,83,87,1,5,87,91,1,91,5,95,2,9,95,99,1,6,99,103,1,9,103,107,2,9,107,111,1,111,6,115,2,9,115,119,1,119,6,123,1,123,9,127,2,127,13,131,1,131,9,135,1,10,135,139,2,139,10,143,1,143,5,147,2,147,6,151,1,151,5,155,1,2,155,159,1,6,159,0,99,2,0,14,0])\n",
    "        IntCode_Computer(IntCodeList)\n",
    "        if IntCodeList[0] == 19690720:\n",
    "            print(100*i+j)\n",
    "            break\n",
    "    else:\n",
    "        continue\n",
    "    break"
   ]
  },
  {
   "cell_type": "code",
   "execution_count": null,
   "metadata": {},
   "outputs": [],
   "source": []
  }
 ]
}